{
 "cells": [
  {
   "cell_type": "code",
   "execution_count": 17,
   "id": "80340703-6722-43ce-89c4-c52e5f4a2120",
   "metadata": {},
   "outputs": [
    {
     "name": "stdout",
     "output_type": "stream",
     "text": [
      "Kruskal statistic: 13416.22252, p-value: 0.00000\n",
      "               5              20   50\n",
      "5    1.000000e+00  3.510869e-245  0.0\n",
      "20  3.510869e-245   1.000000e+00  0.0\n",
      "50   0.000000e+00   0.000000e+00  1.0\n"
     ]
    }
   ],
   "source": [
    "import pandas as pd\n",
    "from src.preprocessing.clean_data import load_data, preprocess_for_analysis\n",
    "from src.analysis.exploratory_analysis import descriptive_statistics, correlation_analysis\n",
    "from src.visualization.plots import plot_breath_cycle, plot_correlation_heatmap, plot_histogram\n",
    "\n",
    "\n",
    "# Load your data (place the Excel file inside data/raw/)\n",
    "df = pd.read_csv(\"C:/Users/Luciana Restrepo/Documents/Lab3_project/data/raw/train.csv\")\n",
    "\n",
    "\n",
    "# Preprocess\n",
    "df_clean = preprocess_for_analysis(df)\n",
    "\n",
    "# Kruskal–Wallis\n",
    "stat, p = run_kruskal(df_clean, 'pressure', 'R')\n",
    "print(f\"Kruskal statistic: {stat:.5f}, p-value: {p:.5f}\")\n",
    "\n",
    "# Dunn post-hoc\n",
    "res = dunn_posthoc(df_clean, 'pressure', 'R', p_adjust='bonferroni')\n",
    "print(res)\n"
   ]
  },
  {
   "cell_type": "code",
   "execution_count": 2,
   "id": "de2799cc-dca8-4d34-b81c-eea395f71496",
   "metadata": {},
   "outputs": [],
   "source": [
    "import sys\n",
    "import os\n",
    "\n",
    "# Add the project root (one level above notebooks/) to Python path\n",
    "sys.path.append(os.path.abspath(os.path.join(os.getcwd(), '..')))\n"
   ]
  }
 ],
 "metadata": {
  "kernelspec": {
   "display_name": "Python 3 (ipykernel)",
   "language": "python",
   "name": "python3"
  },
  "language_info": {
   "codemirror_mode": {
    "name": "ipython",
    "version": 3
   },
   "file_extension": ".py",
   "mimetype": "text/x-python",
   "name": "python",
   "nbconvert_exporter": "python",
   "pygments_lexer": "ipython3",
   "version": "3.11.9"
  }
 },
 "nbformat": 4,
 "nbformat_minor": 5
}
